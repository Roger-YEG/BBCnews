{
 "cells": [
  {
   "cell_type": "code",
   "execution_count": 4,
   "id": "c95273c6-ffb5-45c3-8f9c-ecded5694906",
   "metadata": {},
   "outputs": [],
   "source": [
    "#Import necessary libraries\n",
    "import pandas as pd\n",
    "import numpy as np\n",
    "from sklearn.feature_extraction.text import TfidfVectorizer\n",
    "from sklearn.decomposition import NMF\n",
    "from sklearn.metrics import accuracy_score\n",
    "import matplotlib.pyplot as plt"
   ]
  },
  {
   "cell_type": "code",
   "execution_count": 5,
   "id": "b25da2c7-2ada-4a35-a604-9111c990eb2a",
   "metadata": {},
   "outputs": [
    {
     "data": {
      "text/plain": [
       "<BarContainer object of 5 artists>"
      ]
     },
     "execution_count": 5,
     "metadata": {},
     "output_type": "execute_result"
    },
    {
     "data": {
      "image/png": "[encoded data removed]",
      "text/plain": [
       "<Figure size 640x480 with 1 Axes>"
      ]
     },
     "metadata": {},
     "output_type": "display_data"
    }
   ],
   "source": [
    "#Read the dataframe and check the data format\n",
    "df_train=pd.read_csv(r\"D:\\ML\\Unsupervised\\Week4\\BBC News Train.csv\")\n",
    "df_test=pd.read_csv(r\"D:\\ML\\Unsupervised\\Week4\\BBC News Test.csv\")\n",
    "frequency=df_train['Category'].value_counts()\n",
    "plt.bar(frequency.index, frequency.values)"
   ]
  },
  {
   "cell_type": "code",
   "execution_count": 37,
   "id": "a099aa2a-c4ae-4e9b-8ada-9840f3d2fbf4",
   "metadata": {},
   "outputs": [
    {
     "data": {
      "text/html": [
       "<div>\n",
       "<style scoped>\n",
       "    .dataframe tbody tr th:only-of-type {\n",
       "        vertical-align: middle;\n",
       "    }\n",
       "\n",
       "    .dataframe tbody tr th {\n",
       "        vertical-align: top;\n",
       "    }\n",
       "\n",
       "    .dataframe thead th {\n",
       "        text-align: right;\n",
       "    }\n",
       "</style>\n",
       "<table border=\"1\" class=\"dataframe\">\n",
       "  <thead>\n",
       "    <tr style=\"text-align: right;\">\n",
       "      <th></th>\n",
       "      <th>00</th>\n",
       "      <th>000</th>\n",
       "      <th>0001</th>\n",
       "      <th>000bn</th>\n",
       "      <th>000m</th>\n",
       "      <th>000th</th>\n",
       "      <th>001</th>\n",
       "      <th>001and</th>\n",
       "      <th>001st</th>\n",
       "      <th>0051</th>\n",
       "      <th>...</th>\n",
       "      <th>zoom</th>\n",
       "      <th>zooms</th>\n",
       "      <th>zooropa</th>\n",
       "      <th>zorro</th>\n",
       "      <th>zuluaga</th>\n",
       "      <th>zurich</th>\n",
       "      <th>zutons</th>\n",
       "      <th>zvonareva</th>\n",
       "      <th>Category</th>\n",
       "      <th>ArticleId</th>\n",
       "    </tr>\n",
       "  </thead>\n",
       "  <tbody>\n",
       "    <tr>\n",
       "      <th>0</th>\n",
       "      <td>0.0</td>\n",
       "      <td>0.000000</td>\n",
       "      <td>0.0</td>\n",
       "      <td>0.0</td>\n",
       "      <td>0.0</td>\n",
       "      <td>0.0</td>\n",
       "      <td>0.0</td>\n",
       "      <td>0.0</td>\n",
       "      <td>0.0</td>\n",
       "      <td>0.0</td>\n",
       "      <td>...</td>\n",
       "      <td>0.0</td>\n",
       "      <td>0.0</td>\n",
       "      <td>0.0</td>\n",
       "      <td>0.0</td>\n",
       "      <td>0.0</td>\n",
       "      <td>0.0</td>\n",
       "      <td>0.0</td>\n",
       "      <td>0.0</td>\n",
       "      <td>business</td>\n",
       "      <td>1833</td>\n",
       "    </tr>\n",
       "    <tr>\n",
       "      <th>1</th>\n",
       "      <td>0.0</td>\n",
       "      <td>0.000000</td>\n",
       "      <td>0.0</td>\n",
       "      <td>0.0</td>\n",
       "      <td>0.0</td>\n",
       "      <td>0.0</td>\n",
       "      <td>0.0</td>\n",
       "      <td>0.0</td>\n",
       "      <td>0.0</td>\n",
       "      <td>0.0</td>\n",
       "      <td>...</td>\n",
       "      <td>0.0</td>\n",
       "      <td>0.0</td>\n",
       "      <td>0.0</td>\n",
       "      <td>0.0</td>\n",
       "      <td>0.0</td>\n",
       "      <td>0.0</td>\n",
       "      <td>0.0</td>\n",
       "      <td>0.0</td>\n",
       "      <td>business</td>\n",
       "      <td>154</td>\n",
       "    </tr>\n",
       "    <tr>\n",
       "      <th>2</th>\n",
       "      <td>0.0</td>\n",
       "      <td>0.020274</td>\n",
       "      <td>0.0</td>\n",
       "      <td>0.0</td>\n",
       "      <td>0.0</td>\n",
       "      <td>0.0</td>\n",
       "      <td>0.0</td>\n",
       "      <td>0.0</td>\n",
       "      <td>0.0</td>\n",
       "      <td>0.0</td>\n",
       "      <td>...</td>\n",
       "      <td>0.0</td>\n",
       "      <td>0.0</td>\n",
       "      <td>0.0</td>\n",
       "      <td>0.0</td>\n",
       "      <td>0.0</td>\n",
       "      <td>0.0</td>\n",
       "      <td>0.0</td>\n",
       "      <td>0.0</td>\n",
       "      <td>business</td>\n",
       "      <td>1101</td>\n",
       "    </tr>\n",
       "    <tr>\n",
       "      <th>3</th>\n",
       "      <td>0.0</td>\n",
       "      <td>0.017389</td>\n",
       "      <td>0.0</td>\n",
       "      <td>0.0</td>\n",
       "      <td>0.0</td>\n",
       "      <td>0.0</td>\n",
       "      <td>0.0</td>\n",
       "      <td>0.0</td>\n",
       "      <td>0.0</td>\n",
       "      <td>0.0</td>\n",
       "      <td>...</td>\n",
       "      <td>0.0</td>\n",
       "      <td>0.0</td>\n",
       "      <td>0.0</td>\n",
       "      <td>0.0</td>\n",
       "      <td>0.0</td>\n",
       "      <td>0.0</td>\n",
       "      <td>0.0</td>\n",
       "      <td>0.0</td>\n",
       "      <td>tech</td>\n",
       "      <td>1976</td>\n",
       "    </tr>\n",
       "    <tr>\n",
       "      <th>4</th>\n",
       "      <td>0.0</td>\n",
       "      <td>0.000000</td>\n",
       "      <td>0.0</td>\n",
       "      <td>0.0</td>\n",
       "      <td>0.0</td>\n",
       "      <td>0.0</td>\n",
       "      <td>0.0</td>\n",
       "      <td>0.0</td>\n",
       "      <td>0.0</td>\n",
       "      <td>0.0</td>\n",
       "      <td>...</td>\n",
       "      <td>0.0</td>\n",
       "      <td>0.0</td>\n",
       "      <td>0.0</td>\n",
       "      <td>0.0</td>\n",
       "      <td>0.0</td>\n",
       "      <td>0.0</td>\n",
       "      <td>0.0</td>\n",
       "      <td>0.0</td>\n",
       "      <td>business</td>\n",
       "      <td>917</td>\n",
       "    </tr>\n",
       "  </tbody>\n",
       "</table>\n",
       "<p>5 rows × 24748 columns</p>\n",
       "</div>"
      ],
      "text/plain": [
       "    00       000  0001  000bn  000m  000th  001  001and  001st  0051  ...  \\\n",
       "0  0.0  0.000000   0.0    0.0   0.0    0.0  0.0     0.0    0.0   0.0  ...   \n",
       "1  0.0  0.000000   0.0    0.0   0.0    0.0  0.0     0.0    0.0   0.0  ...   \n",
       "2  0.0  0.020274   0.0    0.0   0.0    0.0  0.0     0.0    0.0   0.0  ...   \n",
       "3  0.0  0.017389   0.0    0.0   0.0    0.0  0.0     0.0    0.0   0.0  ...   \n",
       "4  0.0  0.000000   0.0    0.0   0.0    0.0  0.0     0.0    0.0   0.0  ...   \n",
       "\n",
       "   zoom  zooms  zooropa  zorro  zuluaga  zurich  zutons  zvonareva  Category  \\\n",
       "0   0.0    0.0      0.0    0.0      0.0     0.0     0.0        0.0  business   \n",
       "1   0.0    0.0      0.0    0.0      0.0     0.0     0.0        0.0  business   \n",
       "2   0.0    0.0      0.0    0.0      0.0     0.0     0.0        0.0  business   \n",
       "3   0.0    0.0      0.0    0.0      0.0     0.0     0.0        0.0      tech   \n",
       "4   0.0    0.0      0.0    0.0      0.0     0.0     0.0        0.0  business   \n",
       "\n",
       "   ArticleId  \n",
       "0       1833  \n",
       "1        154  \n",
       "2       1101  \n",
       "3       1976  \n",
       "4        917  \n",
       "\n",
       "[5 rows x 24748 columns]"
      ]
     },
     "execution_count": 37,
     "metadata": {},
     "output_type": "execute_result"
    }
   ],
   "source": [
    "#TF-IDF to convert the data to matrix\n",
    "tfidf_vectorizer= TfidfVectorizer()\n",
    "tfidf_matrix_train= tfidf_vectorizer.fit_transform(df_train['Text'])\n",
    "df_tfidf_train = pd.DataFrame(tfidf_matrix_train.toarray(), columns=tfidf_vectorizer.get_feature_names_out())\n",
    "tfidf_matrix_test=tfidf_vectorizer.fit_transform(df_test[\"Text\"])\n",
    "df_tfidf_test = pd.DataFrame(tfidf_matrix_test.toarray(), columns=tfidf_vectorizer.get_feature_names_out())\n",
    "tfidf_matrix_train.shape\n",
    "\n",
    "df_tfidf_train[\"Category\"]=df_train[\"Category\"].values\n",
    "df_tfidf_train[\"ArticleId\"]=df_train[\"ArticleId\"].values\n",
    "df_tfidf_train.head()"
   ]
  },
  {
   "cell_type": "code",
   "execution_count": 72,
   "id": "086c2fd0-a296-4aca-a63e-0bf41cb4879d",
   "metadata": {},
   "outputs": [],
   "source": [
    "#There are 5 categories, so we set the compoents to 5\n",
    "n_components=5\n",
    "nmf_model=NMF(n_components=n_components)\n",
    "nmf_matrix=nmf_model.fit(tfidf_matrix_train)\n",
    "H=nmf_model.components_  \n",
    "W=nmf_model.fit_transform(tfidf_matrix_train)\n",
    "predicted_topics_train= list(W.argmax(axis=1))\n"
   ]
  },
  {
   "cell_type": "code",
   "execution_count": 74,
   "id": "5045b7e8-b887-4048-86da-d9b812008e4a",
   "metadata": {},
   "outputs": [
    {
     "name": "stdout",
     "output_type": "stream",
     "text": [
      "   Predicted_Labels Actual_Labels Aligned Label\n",
      "0                 1      business      politics\n",
      "1                 0      business      business\n",
      "2                 0      business      business\n",
      "3                 4          tech          tech\n",
      "4                 0      business      business\n",
      "The accuracy score if use Frobenius as loss function 0.876510067114094\n"
     ]
    }
   ],
   "source": [
    "#Align the label \n",
    "Labels_Table=pd.DataFrame({\"Predicted_Labels\":predicted_topics_train,\"Actual_Labels\":df_tfidf_train[\"Category\"]})\n",
    "Actual_Labels=Labels_Table[\"Actual_Labels\"].unique()\n",
    "label_dic={}\n",
    "for label in Actual_Labels:\n",
    "    Table_Specific_Category=Labels_Table[Labels_Table[\"Actual_Labels\"]==label]\n",
    "    frequency=Table_Specific_Category.value_counts()\n",
    "    idx_max=frequency.idxmax()\n",
    "    label_dic[idx_max[0]]=label\n",
    "label_dic\n",
    "aligned_labels=[label_dic[i] for i in predicted_topics_train]\n",
    "len(aligned_labels)\n",
    "Labels_Table[\"Aligned Label\"]=aligned_labels\n",
    "accu_score_train=accuracy_score(Labels_Table[\"Actual_Labels\"],Labels_Table[\"Aligned Label\"])\n",
    "print(Labels_Table.head())\n",
    "print(\"The accuracy score if use Frobenius as loss function\",accu_score_train)"
   ]
  },
  {
   "cell_type": "code",
   "execution_count": 76,
   "id": "5add4722-3d86-4ff9-bc58-8786b808f981",
   "metadata": {},
   "outputs": [
    {
     "data": {
      "text/html": [
       "<div>\n",
       "<style scoped>\n",
       "    .dataframe tbody tr th:only-of-type {\n",
       "        vertical-align: middle;\n",
       "    }\n",
       "\n",
       "    .dataframe tbody tr th {\n",
       "        vertical-align: top;\n",
       "    }\n",
       "\n",
       "    .dataframe thead th {\n",
       "        text-align: right;\n",
       "    }\n",
       "</style>\n",
       "<table border=\"1\" class=\"dataframe\">\n",
       "  <thead>\n",
       "    <tr style=\"text-align: right;\">\n",
       "      <th></th>\n",
       "      <th>ArticleId</th>\n",
       "      <th>Text</th>\n",
       "      <th>Predicted_Category</th>\n",
       "    </tr>\n",
       "  </thead>\n",
       "  <tbody>\n",
       "    <tr>\n",
       "      <th>0</th>\n",
       "      <td>1018</td>\n",
       "      <td>qpr keeper day heads for preston queens park r...</td>\n",
       "      <td>sport</td>\n",
       "    </tr>\n",
       "    <tr>\n",
       "      <th>1</th>\n",
       "      <td>1319</td>\n",
       "      <td>software watching while you work software that...</td>\n",
       "      <td>entertainment</td>\n",
       "    </tr>\n",
       "    <tr>\n",
       "      <th>2</th>\n",
       "      <td>1138</td>\n",
       "      <td>d arcy injury adds to ireland woe gordon d arc...</td>\n",
       "      <td>sport</td>\n",
       "    </tr>\n",
       "    <tr>\n",
       "      <th>3</th>\n",
       "      <td>459</td>\n",
       "      <td>india s reliance family feud heats up the ongo...</td>\n",
       "      <td>business</td>\n",
       "    </tr>\n",
       "    <tr>\n",
       "      <th>4</th>\n",
       "      <td>1020</td>\n",
       "      <td>boro suffer morrison injury blow middlesbrough...</td>\n",
       "      <td>sport</td>\n",
       "    </tr>\n",
       "  </tbody>\n",
       "</table>\n",
       "</div>"
      ],
      "text/plain": [
       "   ArticleId                                               Text  \\\n",
       "0       1018  qpr keeper day heads for preston queens park r...   \n",
       "1       1319  software watching while you work software that...   \n",
       "2       1138  d arcy injury adds to ireland woe gordon d arc...   \n",
       "3        459  india s reliance family feud heats up the ongo...   \n",
       "4       1020  boro suffer morrison injury blow middlesbrough...   \n",
       "\n",
       "  Predicted_Category  \n",
       "0              sport  \n",
       "1      entertainment  \n",
       "2              sport  \n",
       "3           business  \n",
       "4              sport  "
      ]
     },
     "execution_count": 76,
     "metadata": {},
     "output_type": "execute_result"
    }
   ],
   "source": [
    "#Predict the test set\n",
    "n_componets=5\n",
    "nmf_model=NMF(n_components=n_components)\n",
    "nmf_matrix=nmf_model.fit(tfidf_matrix_test)\n",
    "H=nmf_model.components_\n",
    "W=nmf_model.fit_transform(tfidf_matrix_test)\n",
    "predicted_topics_test=list(W.argmax(axis=1))\n",
    "aligned_predicted_topics_test=[label_dic[i] for i in predicted_topics_test]\n",
    "df_test[\"Predicted_Category\"]=aligned_predicted_topics_test\n",
    "df_test.head()"
   ]
  },
  {
   "cell_type": "code",
   "execution_count": 77,
   "id": "6204a35c-56be-4108-8dd5-32a61cb972b1",
   "metadata": {},
   "outputs": [
    {
     "name": "stdout",
     "output_type": "stream",
     "text": [
      "   Predicted_Labels Actual_Labels Aligned Label\n",
      "0                 0      business      business\n",
      "1                 0      business      business\n",
      "2                 0      business      business\n",
      "3                 4          tech          tech\n",
      "4                 0      business      business\n",
      "The accuracy score if use kullaback-leibler as loss function 0.9194630872483222\n"
     ]
    }
   ],
   "source": [
    "#Use kullback-leibler as loss function\n",
    "n_components=5\n",
    "nmf_model=NMF(n_components=n_components,beta_loss=\"kullback-leibler\",solver='mu')\n",
    "nmf_matrix=nmf_model.fit(tfidf_matrix_train)\n",
    "H=nmf_model.components_  \n",
    "W=nmf_model.fit_transform(tfidf_matrix_train)\n",
    "predicted_topics_train= list(W.argmax(axis=1))\n",
    "\n",
    "\n",
    "Labels_Table=pd.DataFrame({\"Predicted_Labels\":predicted_topics_train,\"Actual_Labels\":df_tfidf_train[\"Category\"]})\n",
    "Actual_Labels=Labels_Table[\"Actual_Labels\"].unique()\n",
    "label_dic={}\n",
    "for label in Actual_Labels:\n",
    "    Table_Specific_Category=Labels_Table[Labels_Table[\"Actual_Labels\"]==label]\n",
    "    frequency=Table_Specific_Category.value_counts()\n",
    "    idx_max=frequency.idxmax()\n",
    "    label_dic[idx_max[0]]=label\n",
    "label_dic\n",
    "aligned_labels=[label_dic[i] for i in predicted_topics_train]\n",
    "len(aligned_labels)\n",
    "Labels_Table[\"Aligned Label\"]=aligned_labels\n",
    "accu_score_train=accuracy_score(Labels_Table[\"Actual_Labels\"],Labels_Table[\"Aligned Label\"])\n",
    "print(Labels_Table.head())\n",
    "print(\"The accuracy score if use kullaback-leibler as loss function\",accu_score_train)"
   ]
  },
  {
   "cell_type": "code",
   "execution_count": 117,
   "id": "0236f03c-3ab5-4353-bfbf-21b4a0a8167d",
   "metadata": {},
   "outputs": [
    {
     "name": "stdout",
     "output_type": "stream",
     "text": [
      "The accuracy score if use SVM model for prediction is 0.9979865771812081\n"
     ]
    }
   ],
   "source": [
    "#Supervised learning\n",
    "from sklearn import svm\n",
    "X_train=tfidf_matrix_train\n",
    "y_train=df_tfidf_train[\"Category\"]\n",
    "model=svm.SVC(kernel=\"linear\",C=1.0)\n",
    "model.fit(X_train,y_train)\n",
    "y_predict=model.predict(X_train)\n",
    "accu_score=accuracy_score(y_train,y_predict)\n",
    "print(\"The accuracy score if use SVM model for prediction is\", accu_score)"
   ]
  },
  {
   "cell_type": "markdown",
   "id": "4969a5b4-5f26-4362-bd57-65f28e56ad7f",
   "metadata": {},
   "source": [
    "The supvervised learning, the accuracy score is higher than unsupervised learning"
   ]
  },
  {
   "cell_type": "code",
   "execution_count": 119,
   "id": "4db2c884-510c-44e1-b744-14f763921b69",
   "metadata": {},
   "outputs": [
    {
     "name": "stdout",
     "output_type": "stream",
     "text": [
      "The accuracy score if use SVM model by using 10% data 0.9154362416107382\n"
     ]
    }
   ],
   "source": [
    "# Using 10% of data for supervised training\n",
    "X_train_10=X_train[:150,:]\n",
    "y_train_10=y_train[:150]\n",
    "model=svm.SVC(kernel=\"linear\",C=1.0)\n",
    "model.fit(X_train_10,y_train_10)\n",
    "y_predict=model.predict(X_train)\n",
    "accu_score=accuracy_score(y_train,y_predict)\n",
    "print(\"The accuracy score if use SVM model by using 10% data\", accu_score)"
   ]
  },
  {
   "cell_type": "code",
   "execution_count": 121,
   "id": "e8dfb41b-0fb1-4dac-9698-200c9a978f3c",
   "metadata": {},
   "outputs": [
    {
     "name": "stdout",
     "output_type": "stream",
     "text": [
      "The accuracy score if use SVM model by using 20% data 0.9557046979865772\n"
     ]
    }
   ],
   "source": [
    "# Using 20% of data for supervised training\n",
    "X_train_20=X_train[:300,:]\n",
    "y_train_20=y_train[:300]\n",
    "model=svm.SVC(kernel=\"linear\",C=1.0)\n",
    "model.fit(X_train_20,y_train_20)\n",
    "y_predict=model.predict(X_train)\n",
    "accu_score=accuracy_score(y_train,y_predict)\n",
    "print(\"The accuracy score if use SVM model by using 20% data\", accu_score)"
   ]
  },
  {
   "cell_type": "code",
   "execution_count": 123,
   "id": "78cfeb30-ad52-4801-a282-3d5677df287e",
   "metadata": {},
   "outputs": [
    {
     "name": "stdout",
     "output_type": "stream",
     "text": [
      "The accuracy score if use SVM model by using 40% data 0.9771812080536912\n"
     ]
    }
   ],
   "source": [
    "# Using 40% of data for supervised training\n",
    "X_train_40=X_train[:600,:]\n",
    "y_train_40=y_train[:600]\n",
    "model=svm.SVC(kernel=\"linear\",C=1.0)\n",
    "model.fit(X_train_40,y_train_40)\n",
    "y_predict=model.predict(X_train)\n",
    "accu_score=accuracy_score(y_train,y_predict)\n",
    "print(\"The accuracy score if use SVM model by using 40% data\", accu_score)"
   ]
  },
  {
   "cell_type": "markdown",
   "id": "87b7693f-3a95-439c-9b93-a0ccfa436e4b",
   "metadata": {},
   "source": [
    "The supversied method is more efficient, as it only uses 10% of data, and the training set accuracy score can reach 0.91, which matches the result of unsupversed learning using all the data."
   ]
  }
 ],
 "metadata": {
  "kernelspec": {
   "display_name": "Python 3 (ipykernel)",
   "language": "python",
   "name": "python3"
  },
  "language_info": {
   "codemirror_mode": {
    "name": "ipython",
    "version": 3
   },
   "file_extension": ".py",
   "mimetype": "text/x-python",
   "name": "python",
   "nbconvert_exporter": "python",
   "pygments_lexer": "ipython3",
   "version": "3.11.7"
  }
 },
 "nbformat": 4,
 "nbformat_minor": 5
}
